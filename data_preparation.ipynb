{
 "cells": [
  {
   "cell_type": "markdown",
   "metadata": {},
   "source": [
    "Example EDA for IMDB TV shows:\n",
    "- https://towardsdatascience.com/imdb-tv-show-data-analysis-4961ef39d174\n",
    "- https://towardsdatascience.com/imdb-television-show-data-analysis-part-2-39ebf47977ff"
   ]
  },
  {
   "cell_type": "code",
   "execution_count": 1,
   "metadata": {},
   "outputs": [
    {
     "data": {
      "text/html": [
       "<style>.container { width:100% !important; }</style>"
      ],
      "text/plain": [
       "<IPython.core.display.HTML object>"
      ]
     },
     "metadata": {},
     "output_type": "display_data"
    }
   ],
   "source": [
    "# set the width to full\n",
    "from IPython.core.display import display, HTML\n",
    "display(HTML(\"<style>.container { width:100% !important; }</style>\"))\n",
    "\n",
    "# ignore warnings\n",
    "import warnings\n",
    "warnings.filterwarnings('ignore')"
   ]
  },
  {
   "cell_type": "code",
   "execution_count": 2,
   "metadata": {},
   "outputs": [],
   "source": [
    "# import dependencies and libraries\n",
    "import pandas as pd\n",
    "import numpy as np"
   ]
  },
  {
   "cell_type": "code",
   "execution_count": 3,
   "metadata": {},
   "outputs": [],
   "source": [
    "# set parameters to show max rows and columns and change format numbers to show three digits after decimal\n",
    "pd.set_option('display.max_rows', None)\n",
    "pd.set_option('display.max_columns', None)\n",
    "pd.options.mode.chained_assignment = None\n",
    "#pd.set_option('display.float_format', lambda x: '%.3f' % x)"
   ]
  },
  {
   "cell_type": "code",
   "execution_count": 4,
   "metadata": {},
   "outputs": [],
   "source": [
    "# Source: https://datasets.imdbws.com/\n",
    "\n",
    "# read the datasets\n",
    "basics = pd.read_csv('data/title.basics.tsv.gz', compression='gzip', header=0, sep='\\t')\n",
    "ratings = pd.read_csv('data/title.ratings.tsv.gz', compression='gzip', header=0, sep='\\t')\n",
    "#principals = pd.read_csv('data/title.principals.tsv.gz', compression='gzip', header=0, sep='\\t')\n",
    "#episodes = pd.read_csv('data/title.episode.tsv.gz', compression='gzip', header=0, sep='\\t')\n",
    "names = pd.read_csv('data/name.basics.tsv.gz', compression='gzip', header=0, sep='\\t')\n",
    "crews = pd.read_csv('data/title.crew.tsv.gz', compression='gzip', header=0, sep='\\t')\n",
    "#akas = pd.read_csv('data/title.akas.tsv.gz', compression='gzip', header=0, sep='\\t')"
   ]
  },
  {
   "cell_type": "code",
   "execution_count": 5,
   "metadata": {},
   "outputs": [
    {
     "data": {
      "text/html": [
       "<div>\n",
       "<style scoped>\n",
       "    .dataframe tbody tr th:only-of-type {\n",
       "        vertical-align: middle;\n",
       "    }\n",
       "\n",
       "    .dataframe tbody tr th {\n",
       "        vertical-align: top;\n",
       "    }\n",
       "\n",
       "    .dataframe thead th {\n",
       "        text-align: right;\n",
       "    }\n",
       "</style>\n",
       "<table border=\"1\" class=\"dataframe\">\n",
       "  <thead>\n",
       "    <tr style=\"text-align: right;\">\n",
       "      <th></th>\n",
       "      <th>tconst</th>\n",
       "      <th>primaryTitle</th>\n",
       "      <th>originalTitle</th>\n",
       "      <th>isAdult</th>\n",
       "      <th>startYear</th>\n",
       "      <th>endYear</th>\n",
       "      <th>runtimeMinutes</th>\n",
       "      <th>genres</th>\n",
       "    </tr>\n",
       "    <tr>\n",
       "      <th>titleType</th>\n",
       "      <th></th>\n",
       "      <th></th>\n",
       "      <th></th>\n",
       "      <th></th>\n",
       "      <th></th>\n",
       "      <th></th>\n",
       "      <th></th>\n",
       "      <th></th>\n",
       "    </tr>\n",
       "  </thead>\n",
       "  <tbody>\n",
       "    <tr>\n",
       "      <th>audiobook</th>\n",
       "      <td>1</td>\n",
       "      <td>1</td>\n",
       "      <td>1</td>\n",
       "      <td>1</td>\n",
       "      <td>1</td>\n",
       "      <td>1</td>\n",
       "      <td>1</td>\n",
       "      <td>1</td>\n",
       "    </tr>\n",
       "    <tr>\n",
       "      <th>episode</th>\n",
       "      <td>1</td>\n",
       "      <td>1</td>\n",
       "      <td>1</td>\n",
       "      <td>1</td>\n",
       "      <td>1</td>\n",
       "      <td>1</td>\n",
       "      <td>1</td>\n",
       "      <td>1</td>\n",
       "    </tr>\n",
       "    <tr>\n",
       "      <th>movie</th>\n",
       "      <td>570842</td>\n",
       "      <td>570842</td>\n",
       "      <td>570842</td>\n",
       "      <td>570842</td>\n",
       "      <td>570842</td>\n",
       "      <td>570842</td>\n",
       "      <td>570842</td>\n",
       "      <td>570842</td>\n",
       "    </tr>\n",
       "    <tr>\n",
       "      <th>radioSeries</th>\n",
       "      <td>1</td>\n",
       "      <td>1</td>\n",
       "      <td>1</td>\n",
       "      <td>1</td>\n",
       "      <td>1</td>\n",
       "      <td>1</td>\n",
       "      <td>1</td>\n",
       "      <td>1</td>\n",
       "    </tr>\n",
       "    <tr>\n",
       "      <th>short</th>\n",
       "      <td>799224</td>\n",
       "      <td>799224</td>\n",
       "      <td>799224</td>\n",
       "      <td>799224</td>\n",
       "      <td>799224</td>\n",
       "      <td>799224</td>\n",
       "      <td>799224</td>\n",
       "      <td>799224</td>\n",
       "    </tr>\n",
       "    <tr>\n",
       "      <th>tvEpisode</th>\n",
       "      <td>5593217</td>\n",
       "      <td>5593209</td>\n",
       "      <td>5593209</td>\n",
       "      <td>5593217</td>\n",
       "      <td>5593217</td>\n",
       "      <td>5593217</td>\n",
       "      <td>5593217</td>\n",
       "      <td>5593207</td>\n",
       "    </tr>\n",
       "    <tr>\n",
       "      <th>tvMiniSeries</th>\n",
       "      <td>36291</td>\n",
       "      <td>36291</td>\n",
       "      <td>36291</td>\n",
       "      <td>36291</td>\n",
       "      <td>36291</td>\n",
       "      <td>36291</td>\n",
       "      <td>36291</td>\n",
       "      <td>36291</td>\n",
       "    </tr>\n",
       "    <tr>\n",
       "      <th>tvMovie</th>\n",
       "      <td>130437</td>\n",
       "      <td>130437</td>\n",
       "      <td>130437</td>\n",
       "      <td>130437</td>\n",
       "      <td>130437</td>\n",
       "      <td>130437</td>\n",
       "      <td>130437</td>\n",
       "      <td>130437</td>\n",
       "    </tr>\n",
       "    <tr>\n",
       "      <th>tvSeries</th>\n",
       "      <td>203265</td>\n",
       "      <td>203265</td>\n",
       "      <td>203265</td>\n",
       "      <td>203265</td>\n",
       "      <td>203265</td>\n",
       "      <td>203265</td>\n",
       "      <td>203265</td>\n",
       "      <td>203265</td>\n",
       "    </tr>\n",
       "    <tr>\n",
       "      <th>tvShort</th>\n",
       "      <td>9611</td>\n",
       "      <td>9611</td>\n",
       "      <td>9611</td>\n",
       "      <td>9611</td>\n",
       "      <td>9611</td>\n",
       "      <td>9611</td>\n",
       "      <td>9611</td>\n",
       "      <td>9611</td>\n",
       "    </tr>\n",
       "    <tr>\n",
       "      <th>tvSpecial</th>\n",
       "      <td>31758</td>\n",
       "      <td>31758</td>\n",
       "      <td>31758</td>\n",
       "      <td>31758</td>\n",
       "      <td>31758</td>\n",
       "      <td>31758</td>\n",
       "      <td>31758</td>\n",
       "      <td>31758</td>\n",
       "    </tr>\n",
       "    <tr>\n",
       "      <th>video</th>\n",
       "      <td>297914</td>\n",
       "      <td>297914</td>\n",
       "      <td>297914</td>\n",
       "      <td>297914</td>\n",
       "      <td>297914</td>\n",
       "      <td>297914</td>\n",
       "      <td>297914</td>\n",
       "      <td>297914</td>\n",
       "    </tr>\n",
       "    <tr>\n",
       "      <th>videoGame</th>\n",
       "      <td>27533</td>\n",
       "      <td>27533</td>\n",
       "      <td>27533</td>\n",
       "      <td>27533</td>\n",
       "      <td>27533</td>\n",
       "      <td>27533</td>\n",
       "      <td>27533</td>\n",
       "      <td>27533</td>\n",
       "    </tr>\n",
       "  </tbody>\n",
       "</table>\n",
       "</div>"
      ],
      "text/plain": [
       "               tconst  primaryTitle  originalTitle  isAdult  startYear  \\\n",
       "titleType                                                                \n",
       "audiobook           1             1              1        1          1   \n",
       "episode             1             1              1        1          1   \n",
       "movie          570842        570842         570842   570842     570842   \n",
       "radioSeries         1             1              1        1          1   \n",
       "short          799224        799224         799224   799224     799224   \n",
       "tvEpisode     5593217       5593209        5593209  5593217    5593217   \n",
       "tvMiniSeries    36291         36291          36291    36291      36291   \n",
       "tvMovie        130437        130437         130437   130437     130437   \n",
       "tvSeries       203265        203265         203265   203265     203265   \n",
       "tvShort          9611          9611           9611     9611       9611   \n",
       "tvSpecial       31758         31758          31758    31758      31758   \n",
       "video          297914        297914         297914   297914     297914   \n",
       "videoGame       27533         27533          27533    27533      27533   \n",
       "\n",
       "              endYear  runtimeMinutes   genres  \n",
       "titleType                                       \n",
       "audiobook           1               1        1  \n",
       "episode             1               1        1  \n",
       "movie          570842          570842   570842  \n",
       "radioSeries         1               1        1  \n",
       "short          799224          799224   799224  \n",
       "tvEpisode     5593217         5593217  5593207  \n",
       "tvMiniSeries    36291           36291    36291  \n",
       "tvMovie        130437          130437   130437  \n",
       "tvSeries       203265          203265   203265  \n",
       "tvShort          9611            9611     9611  \n",
       "tvSpecial       31758           31758    31758  \n",
       "video          297914          297914   297914  \n",
       "videoGame       27533           27533    27533  "
      ]
     },
     "execution_count": 5,
     "metadata": {},
     "output_type": "execute_result"
    }
   ],
   "source": [
    "basics.groupby('titleType').count()"
   ]
  },
  {
   "cell_type": "code",
   "execution_count": 6,
   "metadata": {},
   "outputs": [],
   "source": [
    "# first take the types of media that we are interested in\n",
    "basics_interested = basics[basics.titleType.isin(['movie', 'tvMiniSeries', 'tvSeries', 'tvMovie', 'video', 'tvEpisode', 'tvSpecial', 'short'])]"
   ]
  },
  {
   "cell_type": "code",
   "execution_count": 7,
   "metadata": {},
   "outputs": [],
   "source": [
    "# read the main data [source](https://www.kaggle.com/ksb357/military-hollywood-collaboration-database)\n",
    "military_hollywood = pd.read_csv('military-hollywood-full_imdbidAdded.csv', delimiter=',', usecols=['Title', 'IMDB_ID', 'Status', 'Media Type', 'Year','Remarks'])"
   ]
  },
  {
   "cell_type": "code",
   "execution_count": 8,
   "metadata": {},
   "outputs": [
    {
     "data": {
      "text/plain": [
       "(858, 6)"
      ]
     },
     "execution_count": 8,
     "metadata": {},
     "output_type": "execute_result"
    }
   ],
   "source": [
    "military_hollywood.shape"
   ]
  },
  {
   "cell_type": "code",
   "execution_count": 9,
   "metadata": {},
   "outputs": [
    {
     "data": {
      "text/html": [
       "<div>\n",
       "<style scoped>\n",
       "    .dataframe tbody tr th:only-of-type {\n",
       "        vertical-align: middle;\n",
       "    }\n",
       "\n",
       "    .dataframe tbody tr th {\n",
       "        vertical-align: top;\n",
       "    }\n",
       "\n",
       "    .dataframe thead th {\n",
       "        text-align: right;\n",
       "    }\n",
       "</style>\n",
       "<table border=\"1\" class=\"dataframe\">\n",
       "  <thead>\n",
       "    <tr style=\"text-align: right;\">\n",
       "      <th></th>\n",
       "      <th>Title</th>\n",
       "      <th>IMDB_ID</th>\n",
       "      <th>Status</th>\n",
       "      <th>Media Type</th>\n",
       "      <th>Year</th>\n",
       "      <th>Remarks</th>\n",
       "    </tr>\n",
       "  </thead>\n",
       "  <tbody>\n",
       "    <tr>\n",
       "      <th>0</th>\n",
       "      <td>\"1968\"</td>\n",
       "      <td>NaN</td>\n",
       "      <td>OTH</td>\n",
       "      <td>FILM</td>\n",
       "      <td>NaN</td>\n",
       "      <td>THE FILM STARTED OUT VERY NEGATIVE FOR THE ARM...</td>\n",
       "    </tr>\n",
       "    <tr>\n",
       "      <th>1</th>\n",
       "      <td>1,000 MEN AND A BABY</td>\n",
       "      <td>tt0133231</td>\n",
       "      <td>APP</td>\n",
       "      <td>TV</td>\n",
       "      <td>1997.0</td>\n",
       "      <td>VERY POSITIVE DEPICTION OF NAVY IN THIS KOREAN...</td>\n",
       "    </tr>\n",
       "    <tr>\n",
       "      <th>2</th>\n",
       "      <td>1ST FORCE</td>\n",
       "      <td>NaN</td>\n",
       "      <td>OTH</td>\n",
       "      <td>FILM</td>\n",
       "      <td>NaN</td>\n",
       "      <td>INITIALLY DOD AND USMC WERE INCLINED TO SUPPOR...</td>\n",
       "    </tr>\n",
       "    <tr>\n",
       "      <th>3</th>\n",
       "      <td>24</td>\n",
       "      <td>tt0285331</td>\n",
       "      <td>APP</td>\n",
       "      <td>TV</td>\n",
       "      <td>2004.0</td>\n",
       "      <td>APPROVED FILMING FOR ONE DAY WITH TWO MARINE C...</td>\n",
       "    </tr>\n",
       "    <tr>\n",
       "      <th>4</th>\n",
       "      <td>3RD DEGREE</td>\n",
       "      <td>tt0098469</td>\n",
       "      <td>APP</td>\n",
       "      <td>TV</td>\n",
       "      <td>1989.0</td>\n",
       "      <td>PERSONNEL APPEARED ON THIS GAME SHOW AT THE EX...</td>\n",
       "    </tr>\n",
       "  </tbody>\n",
       "</table>\n",
       "</div>"
      ],
      "text/plain": [
       "                  Title    IMDB_ID Status Media Type    Year  \\\n",
       "0                \"1968\"        NaN    OTH       FILM     NaN   \n",
       "1  1,000 MEN AND A BABY  tt0133231    APP         TV  1997.0   \n",
       "2             1ST FORCE        NaN    OTH       FILM     NaN   \n",
       "3                    24  tt0285331    APP         TV  2004.0   \n",
       "4            3RD DEGREE  tt0098469    APP         TV  1989.0   \n",
       "\n",
       "                                             Remarks  \n",
       "0  THE FILM STARTED OUT VERY NEGATIVE FOR THE ARM...  \n",
       "1  VERY POSITIVE DEPICTION OF NAVY IN THIS KOREAN...  \n",
       "2  INITIALLY DOD AND USMC WERE INCLINED TO SUPPOR...  \n",
       "3  APPROVED FILMING FOR ONE DAY WITH TWO MARINE C...  \n",
       "4  PERSONNEL APPEARED ON THIS GAME SHOW AT THE EX...  "
      ]
     },
     "execution_count": 9,
     "metadata": {},
     "output_type": "execute_result"
    }
   ],
   "source": [
    "military_hollywood.head()"
   ]
  },
  {
   "cell_type": "code",
   "execution_count": 10,
   "metadata": {},
   "outputs": [],
   "source": [
    "# join main dataset and title basics dataset for release year, genres, and title type informations\n",
    "aggregated_data = pd.merge(military_hollywood, basics_interested[['tconst', 'startYear', 'genres', 'titleType']], how ='left', left_on='IMDB_ID', right_on='tconst')"
   ]
  },
  {
   "cell_type": "code",
   "execution_count": 11,
   "metadata": {},
   "outputs": [
    {
     "data": {
      "text/html": [
       "<div>\n",
       "<style scoped>\n",
       "    .dataframe tbody tr th:only-of-type {\n",
       "        vertical-align: middle;\n",
       "    }\n",
       "\n",
       "    .dataframe tbody tr th {\n",
       "        vertical-align: top;\n",
       "    }\n",
       "\n",
       "    .dataframe thead th {\n",
       "        text-align: right;\n",
       "    }\n",
       "</style>\n",
       "<table border=\"1\" class=\"dataframe\">\n",
       "  <thead>\n",
       "    <tr style=\"text-align: right;\">\n",
       "      <th></th>\n",
       "      <th>Title</th>\n",
       "      <th>IMDB_ID</th>\n",
       "      <th>Status</th>\n",
       "      <th>Media Type</th>\n",
       "      <th>Year</th>\n",
       "      <th>Remarks</th>\n",
       "      <th>tconst</th>\n",
       "      <th>startYear</th>\n",
       "      <th>genres</th>\n",
       "      <th>titleType</th>\n",
       "    </tr>\n",
       "  </thead>\n",
       "  <tbody>\n",
       "  </tbody>\n",
       "</table>\n",
       "</div>"
      ],
      "text/plain": [
       "Empty DataFrame\n",
       "Columns: [Title, IMDB_ID, Status, Media Type, Year, Remarks, tconst, startYear, genres, titleType]\n",
       "Index: []"
      ]
     },
     "execution_count": 11,
     "metadata": {},
     "output_type": "execute_result"
    }
   ],
   "source": [
    "# check if any rows with imdb_id not null but tconst is null\n",
    "aggregated_data[(aggregated_data.IMDB_ID.notna())&(aggregated_data.tconst.isna())]"
   ]
  },
  {
   "cell_type": "code",
   "execution_count": 12,
   "metadata": {},
   "outputs": [
    {
     "data": {
      "text/html": [
       "<div>\n",
       "<style scoped>\n",
       "    .dataframe tbody tr th:only-of-type {\n",
       "        vertical-align: middle;\n",
       "    }\n",
       "\n",
       "    .dataframe tbody tr th {\n",
       "        vertical-align: top;\n",
       "    }\n",
       "\n",
       "    .dataframe thead th {\n",
       "        text-align: right;\n",
       "    }\n",
       "</style>\n",
       "<table border=\"1\" class=\"dataframe\">\n",
       "  <thead>\n",
       "    <tr style=\"text-align: right;\">\n",
       "      <th></th>\n",
       "      <th>Media Type</th>\n",
       "      <th>titleType</th>\n",
       "    </tr>\n",
       "  </thead>\n",
       "  <tbody>\n",
       "    <tr>\n",
       "      <th>0</th>\n",
       "      <td>FILM</td>\n",
       "      <td>NaN</td>\n",
       "    </tr>\n",
       "    <tr>\n",
       "      <th>1</th>\n",
       "      <td>TV</td>\n",
       "      <td>tvMovie</td>\n",
       "    </tr>\n",
       "    <tr>\n",
       "      <th>3</th>\n",
       "      <td>TV</td>\n",
       "      <td>tvSeries</td>\n",
       "    </tr>\n",
       "    <tr>\n",
       "      <th>5</th>\n",
       "      <td>FILM</td>\n",
       "      <td>movie</td>\n",
       "    </tr>\n",
       "    <tr>\n",
       "      <th>15</th>\n",
       "      <td>OTH</td>\n",
       "      <td>video</td>\n",
       "    </tr>\n",
       "    <tr>\n",
       "      <th>23</th>\n",
       "      <td>TV</td>\n",
       "      <td>tvEpisode</td>\n",
       "    </tr>\n",
       "    <tr>\n",
       "      <th>26</th>\n",
       "      <td>TV</td>\n",
       "      <td>NaN</td>\n",
       "    </tr>\n",
       "    <tr>\n",
       "      <th>30</th>\n",
       "      <td>TV</td>\n",
       "      <td>tvSpecial</td>\n",
       "    </tr>\n",
       "    <tr>\n",
       "      <th>36</th>\n",
       "      <td>TV</td>\n",
       "      <td>short</td>\n",
       "    </tr>\n",
       "    <tr>\n",
       "      <th>43</th>\n",
       "      <td>FILM</td>\n",
       "      <td>tvSeries</td>\n",
       "    </tr>\n",
       "    <tr>\n",
       "      <th>54</th>\n",
       "      <td>FILM</td>\n",
       "      <td>tvEpisode</td>\n",
       "    </tr>\n",
       "    <tr>\n",
       "      <th>172</th>\n",
       "      <td>FILM</td>\n",
       "      <td>video</td>\n",
       "    </tr>\n",
       "    <tr>\n",
       "      <th>183</th>\n",
       "      <td>TV</td>\n",
       "      <td>movie</td>\n",
       "    </tr>\n",
       "    <tr>\n",
       "      <th>203</th>\n",
       "      <td>FILM</td>\n",
       "      <td>tvMovie</td>\n",
       "    </tr>\n",
       "    <tr>\n",
       "      <th>217</th>\n",
       "      <td>TV</td>\n",
       "      <td>tvMiniSeries</td>\n",
       "    </tr>\n",
       "    <tr>\n",
       "      <th>383</th>\n",
       "      <td>TV</td>\n",
       "      <td>video</td>\n",
       "    </tr>\n",
       "    <tr>\n",
       "      <th>518</th>\n",
       "      <td>FILM</td>\n",
       "      <td>short</td>\n",
       "    </tr>\n",
       "    <tr>\n",
       "      <th>527</th>\n",
       "      <td>NaN</td>\n",
       "      <td>movie</td>\n",
       "    </tr>\n",
       "  </tbody>\n",
       "</table>\n",
       "</div>"
      ],
      "text/plain": [
       "    Media Type     titleType\n",
       "0         FILM           NaN\n",
       "1           TV       tvMovie\n",
       "3           TV      tvSeries\n",
       "5         FILM         movie\n",
       "15         OTH         video\n",
       "23          TV     tvEpisode\n",
       "26          TV           NaN\n",
       "30          TV     tvSpecial\n",
       "36          TV         short\n",
       "43        FILM      tvSeries\n",
       "54        FILM     tvEpisode\n",
       "172       FILM         video\n",
       "183         TV         movie\n",
       "203       FILM       tvMovie\n",
       "217         TV  tvMiniSeries\n",
       "383         TV         video\n",
       "518       FILM         short\n",
       "527        NaN         movie"
      ]
     },
     "execution_count": 12,
     "metadata": {},
     "output_type": "execute_result"
    }
   ],
   "source": [
    "aggregated_data[['Media Type', 'titleType']].drop_duplicates()#[(aggregated_data.IMDB_ID.notna())&(aggregated_data.tconst.isna())]"
   ]
  },
  {
   "cell_type": "code",
   "execution_count": 13,
   "metadata": {},
   "outputs": [],
   "source": [
    "# join merged dataset above and crews dataset for directors informations \n",
    "aggregated_data1 = pd.merge(aggregated_data, crews[['tconst', 'directors']], how ='left', left_on='IMDB_ID', right_on='tconst')"
   ]
  },
  {
   "cell_type": "code",
   "execution_count": 14,
   "metadata": {},
   "outputs": [
    {
     "data": {
      "text/plain": [
       "(858, 12)"
      ]
     },
     "execution_count": 14,
     "metadata": {},
     "output_type": "execute_result"
    }
   ],
   "source": [
    "aggregated_data1.shape"
   ]
  },
  {
   "cell_type": "code",
   "execution_count": 16,
   "metadata": {},
   "outputs": [],
   "source": [
    "# join the aggregated data 2 with ratings to have the average rating information\n",
    "aggregated_data3 = pd.merge(aggregated_data1, ratings[['tconst', 'averageRating']], how ='left', left_on='IMDB_ID', right_on='tconst')"
   ]
  },
  {
   "cell_type": "code",
   "execution_count": 17,
   "metadata": {},
   "outputs": [],
   "source": [
    "# create two subsets of the aggregated_data3 to be able to request plot and keywords information for each imdb_id\n",
    "aggregated_data3_imdbid_isna = aggregated_data3.loc[(aggregated_data3.IMDB_ID.isna()) | (aggregated_data3.IMDB_ID=='')]\n",
    "aggregated_data3_imdbid_notna = aggregated_data3[~aggregated_data3.index.isin(aggregated_data3_imdbid_isna.index)]"
   ]
  },
  {
   "cell_type": "code",
   "execution_count": 18,
   "metadata": {},
   "outputs": [
    {
     "data": {
      "text/plain": [
       "(73, 14)"
      ]
     },
     "execution_count": 18,
     "metadata": {},
     "output_type": "execute_result"
    }
   ],
   "source": [
    "aggregated_data3_imdbid_isna.shape"
   ]
  },
  {
   "cell_type": "code",
   "execution_count": 19,
   "metadata": {},
   "outputs": [
    {
     "data": {
      "text/plain": [
       "(785, 14)"
      ]
     },
     "execution_count": 19,
     "metadata": {},
     "output_type": "execute_result"
    }
   ],
   "source": [
    "aggregated_data3_imdbid_notna.shape"
   ]
  },
  {
   "cell_type": "code",
   "execution_count": 20,
   "metadata": {},
   "outputs": [
    {
     "data": {
      "text/html": [
       "<div>\n",
       "<style scoped>\n",
       "    .dataframe tbody tr th:only-of-type {\n",
       "        vertical-align: middle;\n",
       "    }\n",
       "\n",
       "    .dataframe tbody tr th {\n",
       "        vertical-align: top;\n",
       "    }\n",
       "\n",
       "    .dataframe thead th {\n",
       "        text-align: right;\n",
       "    }\n",
       "</style>\n",
       "<table border=\"1\" class=\"dataframe\">\n",
       "  <thead>\n",
       "    <tr style=\"text-align: right;\">\n",
       "      <th></th>\n",
       "      <th>Title</th>\n",
       "      <th>IMDB_ID</th>\n",
       "      <th>Status</th>\n",
       "      <th>Media Type</th>\n",
       "      <th>Year</th>\n",
       "      <th>Remarks</th>\n",
       "      <th>tconst_x</th>\n",
       "      <th>startYear</th>\n",
       "      <th>genres</th>\n",
       "      <th>titleType</th>\n",
       "      <th>tconst_y</th>\n",
       "      <th>directors</th>\n",
       "      <th>tconst</th>\n",
       "      <th>averageRating</th>\n",
       "    </tr>\n",
       "  </thead>\n",
       "  <tbody>\n",
       "    <tr>\n",
       "      <th>0</th>\n",
       "      <td>\"1968\"</td>\n",
       "      <td>NaN</td>\n",
       "      <td>OTH</td>\n",
       "      <td>FILM</td>\n",
       "      <td>NaN</td>\n",
       "      <td>THE FILM STARTED OUT VERY NEGATIVE FOR THE ARM...</td>\n",
       "      <td>NaN</td>\n",
       "      <td>NaN</td>\n",
       "      <td>NaN</td>\n",
       "      <td>NaN</td>\n",
       "      <td>NaN</td>\n",
       "      <td>NaN</td>\n",
       "      <td>NaN</td>\n",
       "      <td>NaN</td>\n",
       "    </tr>\n",
       "    <tr>\n",
       "      <th>2</th>\n",
       "      <td>1ST FORCE</td>\n",
       "      <td>NaN</td>\n",
       "      <td>OTH</td>\n",
       "      <td>FILM</td>\n",
       "      <td>NaN</td>\n",
       "      <td>INITIALLY DOD AND USMC WERE INCLINED TO SUPPOR...</td>\n",
       "      <td>NaN</td>\n",
       "      <td>NaN</td>\n",
       "      <td>NaN</td>\n",
       "      <td>NaN</td>\n",
       "      <td>NaN</td>\n",
       "      <td>NaN</td>\n",
       "      <td>NaN</td>\n",
       "      <td>NaN</td>\n",
       "    </tr>\n",
       "    <tr>\n",
       "      <th>10</th>\n",
       "      <td>A MORAL ISSUE</td>\n",
       "      <td>NaN</td>\n",
       "      <td>DEN</td>\n",
       "      <td>FILM</td>\n",
       "      <td>NaN</td>\n",
       "      <td>THERE ARE NO RECORDS OF DOD EVER APPROVING THE...</td>\n",
       "      <td>NaN</td>\n",
       "      <td>NaN</td>\n",
       "      <td>NaN</td>\n",
       "      <td>NaN</td>\n",
       "      <td>NaN</td>\n",
       "      <td>NaN</td>\n",
       "      <td>NaN</td>\n",
       "      <td>NaN</td>\n",
       "    </tr>\n",
       "    <tr>\n",
       "      <th>26</th>\n",
       "      <td>AIRPOWER VIETNAM, THE REAP TOP GUN</td>\n",
       "      <td>NaN</td>\n",
       "      <td>APP</td>\n",
       "      <td>TV</td>\n",
       "      <td>NaN</td>\n",
       "      <td>THE REQUEST FOR FILMING ON LUKE AFB WAS GRANTE...</td>\n",
       "      <td>NaN</td>\n",
       "      <td>NaN</td>\n",
       "      <td>NaN</td>\n",
       "      <td>NaN</td>\n",
       "      <td>NaN</td>\n",
       "      <td>NaN</td>\n",
       "      <td>NaN</td>\n",
       "      <td>NaN</td>\n",
       "    </tr>\n",
       "    <tr>\n",
       "      <th>28</th>\n",
       "      <td>ALL THE UNSUNG HEROES</td>\n",
       "      <td>NaN</td>\n",
       "      <td>APP</td>\n",
       "      <td>TV</td>\n",
       "      <td>1991.0</td>\n",
       "      <td>DOD APPROVED FOR STOCK FOOTAGE. THIS VIDEO WAS...</td>\n",
       "      <td>NaN</td>\n",
       "      <td>NaN</td>\n",
       "      <td>NaN</td>\n",
       "      <td>NaN</td>\n",
       "      <td>NaN</td>\n",
       "      <td>NaN</td>\n",
       "      <td>NaN</td>\n",
       "      <td>NaN</td>\n",
       "    </tr>\n",
       "  </tbody>\n",
       "</table>\n",
       "</div>"
      ],
      "text/plain": [
       "                                 Title IMDB_ID Status Media Type    Year  \\\n",
       "0                               \"1968\"     NaN    OTH       FILM     NaN   \n",
       "2                            1ST FORCE     NaN    OTH       FILM     NaN   \n",
       "10                       A MORAL ISSUE     NaN    DEN       FILM     NaN   \n",
       "26  AIRPOWER VIETNAM, THE REAP TOP GUN     NaN    APP         TV     NaN   \n",
       "28               ALL THE UNSUNG HEROES     NaN    APP         TV  1991.0   \n",
       "\n",
       "                                              Remarks tconst_x startYear  \\\n",
       "0   THE FILM STARTED OUT VERY NEGATIVE FOR THE ARM...      NaN       NaN   \n",
       "2   INITIALLY DOD AND USMC WERE INCLINED TO SUPPOR...      NaN       NaN   \n",
       "10  THERE ARE NO RECORDS OF DOD EVER APPROVING THE...      NaN       NaN   \n",
       "26  THE REQUEST FOR FILMING ON LUKE AFB WAS GRANTE...      NaN       NaN   \n",
       "28  DOD APPROVED FOR STOCK FOOTAGE. THIS VIDEO WAS...      NaN       NaN   \n",
       "\n",
       "   genres titleType tconst_y directors tconst  averageRating  \n",
       "0     NaN       NaN      NaN       NaN    NaN            NaN  \n",
       "2     NaN       NaN      NaN       NaN    NaN            NaN  \n",
       "10    NaN       NaN      NaN       NaN    NaN            NaN  \n",
       "26    NaN       NaN      NaN       NaN    NaN            NaN  \n",
       "28    NaN       NaN      NaN       NaN    NaN            NaN  "
      ]
     },
     "execution_count": 20,
     "metadata": {},
     "output_type": "execute_result"
    }
   ],
   "source": [
    "aggregated_data3_imdbid_isna.head()"
   ]
  },
  {
   "cell_type": "code",
   "execution_count": 21,
   "metadata": {},
   "outputs": [],
   "source": [
    "aggregated_data3_imdbid_isna['plot'] = np.NaN\n",
    "aggregated_data3_imdbid_isna['released_dates'] = np.NaN\n",
    "aggregated_data3_imdbid_isna['directors_name'] = np.NaN\n",
    "aggregated_data3_imdbid_isna['awards'] = np.NaN"
   ]
  },
  {
   "cell_type": "code",
   "execution_count": 22,
   "metadata": {},
   "outputs": [],
   "source": [
    "# Run only once to request the plot and released dates information\n",
    "\n",
    "#. import requests\n",
    "#. \n",
    "#. params = {'plot':'full'}\n",
    "#. apiKey = '43487f66' # your api key here\n",
    "#. \n",
    "#. plots = []\n",
    "#. releasedDates = []\n",
    "#. keys = []\n",
    "#. directors = []\n",
    "#. genres = []\n",
    "#. awards = []\n",
    "#. posters = []\n",
    "#. ratings = []\n",
    "#. movieType = []\n",
    "#. \n",
    "#. for index, row in aggregated_data3_imdbid_notna.iterrows():\n",
    "#.     data_URL = 'http://www.omdbapi.com/?i='+row['IMDB_ID']+'&apikey='+apiKey\n",
    "#.     response = requests.get(data_URL,params=params).json()\n",
    "#.     if response['Response']=='True':\n",
    "#.         keys.append(row['IMDB_ID'])\n",
    "#.         plots.append(response['Plot'])\n",
    "#.         releasedDates.append(response['Released'])    \n",
    "#.         directors.append(response['Director'])   \n",
    "#.         genres.append(response['Genre'])    \n",
    "#.         awards.append(response['Awards'])\n",
    "#.         posters.append(response['Poster'])\n",
    "#.         ratings.append(response['imdbRating'])\n",
    "#.         movieType.append(response['Type'])\n",
    "#.         \n",
    "#. requested = pd.DataFrame({'ids' : keys, 'plot': plots, 'released_dates' : releasedDates, 'directors' : directors, 'genres' : genres, 'awards' : awards,\n",
    "#.                           'posters' : posters, 'ratings' : ratings, 'movieType' : movieType})\n",
    "#. import pickle \n",
    "#. requested.to_pickle('requested.pkl')"
   ]
  },
  {
   "cell_type": "code",
   "execution_count": 23,
   "metadata": {},
   "outputs": [],
   "source": [
    "read_requested = pd.read_pickle('requested.pkl')"
   ]
  },
  {
   "cell_type": "code",
   "execution_count": 24,
   "metadata": {},
   "outputs": [
    {
     "name": "stdout",
     "output_type": "stream",
     "text": [
      "There are 4 ({'tt1829487', 'tt1829483', 'tt13891322', 'tt6349394'}) imdb ids have no plot information out of aggregated_data3_imdbid_notna dataset.\n"
     ]
    }
   ],
   "source": [
    "print('There are {} ({}) imdb ids have no plot information out of aggregated_data3_imdbid_notna dataset.'.format(len(set(aggregated_data3_imdbid_notna.IMDB_ID)-set(read_requested.ids)),\n",
    "                                                                                                                 set(aggregated_data3_imdbid_notna.IMDB_ID)-set(read_requested.ids)))"
   ]
  },
  {
   "cell_type": "code",
   "execution_count": 25,
   "metadata": {},
   "outputs": [
    {
     "data": {
      "text/plain": [
       "(781, 9)"
      ]
     },
     "execution_count": 25,
     "metadata": {},
     "output_type": "execute_result"
    }
   ],
   "source": [
    "read_requested.shape"
   ]
  },
  {
   "cell_type": "code",
   "execution_count": 26,
   "metadata": {},
   "outputs": [],
   "source": [
    "read_requested.rename(columns = {'directors':'directors_name'}, inplace = True)"
   ]
  },
  {
   "cell_type": "code",
   "execution_count": 27,
   "metadata": {},
   "outputs": [],
   "source": [
    "aggregated_data3_imdbid_notna = pd.merge(aggregated_data3_imdbid_notna, read_requested[['ids', 'plot', 'released_dates', 'directors_name', 'awards']], how ='left', left_on='IMDB_ID', right_on='ids').drop_duplicates()"
   ]
  },
  {
   "cell_type": "code",
   "execution_count": 28,
   "metadata": {},
   "outputs": [],
   "source": [
    "# combine the divided data back together\n",
    "aggregated_final = aggregated_data3_imdbid_notna.append(aggregated_data3_imdbid_isna, ignore_index=True)"
   ]
  },
  {
   "cell_type": "code",
   "execution_count": 29,
   "metadata": {},
   "outputs": [],
   "source": [
    "aggregated_final = aggregated_final.drop(['tconst_x', 'tconst_y', 'tconst', 'ids'], axis = 1)"
   ]
  },
  {
   "cell_type": "code",
   "execution_count": 30,
   "metadata": {},
   "outputs": [],
   "source": [
    "# replace \\N as nan \n",
    "directors_dict_clean = {'\\\\N': np.NaN}\n",
    "aggregated_final.directors.replace(directors_dict_clean, inplace=True)\n",
    "aggregated_final.startYear.replace(directors_dict_clean, inplace=True)"
   ]
  },
  {
   "cell_type": "code",
   "execution_count": 31,
   "metadata": {},
   "outputs": [],
   "source": [
    "directors_dict_clean_2 = {'N/A': np.NaN}\n",
    "aggregated_final.directors_name.replace(directors_dict_clean_2, inplace=True)"
   ]
  },
  {
   "cell_type": "code",
   "execution_count": 33,
   "metadata": {},
   "outputs": [
    {
     "data": {
      "text/plain": [
       "(858, 15)"
      ]
     },
     "execution_count": 33,
     "metadata": {},
     "output_type": "execute_result"
    }
   ],
   "source": [
    "aggregated_final.shape"
   ]
  },
  {
   "cell_type": "code",
   "execution_count": 34,
   "metadata": {
    "scrolled": true
   },
   "outputs": [],
   "source": [
    "# create a dictionary with director names and their ids\n",
    "df_director = names[['nconst', 'primaryName']].set_index('nconst')\n",
    "dict_director = df_director.to_dict()\n",
    "dict_director = dict_director['primaryName']"
   ]
  },
  {
   "cell_type": "code",
   "execution_count": 35,
   "metadata": {
    "scrolled": true
   },
   "outputs": [],
   "source": [
    "# divide data into 2 to apply the dictionary defined above\n",
    "aggregated_final_directors_notna_name_isna = aggregated_final.loc[(aggregated_final.directors_name.isna()) & (aggregated_final.directors.notna())]\n",
    "aggregated_final_directors_rest = aggregated_final[~aggregated_final.index.isin(aggregated_final_directors_notna_name_isna.index)]"
   ]
  },
  {
   "cell_type": "code",
   "execution_count": 61,
   "metadata": {},
   "outputs": [],
   "source": [
    "#demo = aggregated_final_directors_notna_name_isna[['directors', 'directors_name']].reset_index(drop=True)"
   ]
  },
  {
   "cell_type": "code",
   "execution_count": 36,
   "metadata": {},
   "outputs": [],
   "source": [
    "def replace_directorIDs_with_names(list_, dictionary):\n",
    "    \"\"\"\n",
    "    Takes list of strings and a dictionary and it replaces the strings which the key values in the dictionary.\n",
    "    \"\"\"\n",
    "    for index, data in enumerate(list_):\n",
    "        for key, value in dictionary.items():\n",
    "            if key in data:\n",
    "                list_[index]=data.replace(key, dictionary[key])\n",
    "    return list_"
   ]
  },
  {
   "cell_type": "code",
   "execution_count": 37,
   "metadata": {},
   "outputs": [],
   "source": [
    "director_list = [x.split(',') for x in aggregated_final_directors_notna_name_isna.directors.to_list()]\n",
    "\n",
    "directors_names = []\n",
    "\n",
    "for sublist in director_list:\n",
    "    directors_names.append(replace_directorIDs_with_names(sublist, dict_director))"
   ]
  },
  {
   "cell_type": "code",
   "execution_count": 38,
   "metadata": {},
   "outputs": [],
   "source": [
    "aggregated_final_directors_notna_name_isna.directors_name = [(', ').join(a) for a in directors_names]"
   ]
  },
  {
   "cell_type": "code",
   "execution_count": 42,
   "metadata": {},
   "outputs": [
    {
     "data": {
      "text/plain": [
       "(27, 15)"
      ]
     },
     "execution_count": 42,
     "metadata": {},
     "output_type": "execute_result"
    }
   ],
   "source": [
    "aggregated_final_directors_notna_name_isna.shape"
   ]
  },
  {
   "cell_type": "code",
   "execution_count": 43,
   "metadata": {},
   "outputs": [
    {
     "data": {
      "text/plain": [
       "(831, 15)"
      ]
     },
     "execution_count": 43,
     "metadata": {},
     "output_type": "execute_result"
    }
   ],
   "source": [
    "aggregated_final_directors_rest.shape"
   ]
  },
  {
   "cell_type": "code",
   "execution_count": 44,
   "metadata": {},
   "outputs": [],
   "source": [
    "# combine the divided data back together\n",
    "aggregated_ = aggregated_final_directors_notna_name_isna.append(aggregated_final_directors_rest, ignore_index=True)"
   ]
  },
  {
   "cell_type": "code",
   "execution_count": 45,
   "metadata": {},
   "outputs": [
    {
     "data": {
      "text/plain": [
       "(858, 15)"
      ]
     },
     "execution_count": 45,
     "metadata": {},
     "output_type": "execute_result"
    }
   ],
   "source": [
    "aggregated_.shape"
   ]
  },
  {
   "cell_type": "code",
   "execution_count": 46,
   "metadata": {},
   "outputs": [],
   "source": [
    "aggregated_.to_pickle('movies_final_aggregated.pkl')"
   ]
  },
  {
   "cell_type": "code",
   "execution_count": null,
   "metadata": {},
   "outputs": [],
   "source": []
  },
  {
   "cell_type": "markdown",
   "metadata": {},
   "source": [
    "Source: https://www.kaggle.com/stephanerappeneau/350-000-movies-from-themoviedborg"
   ]
  },
  {
   "cell_type": "code",
   "execution_count": 38,
   "metadata": {},
   "outputs": [],
   "source": [
    "#movies = pd.read_csv('data/AllMoviesDetailsCleaned.csv', encoding='utf-8-sig', sep=';', engine='python', parse_dates=['release_date'])"
   ]
  },
  {
   "cell_type": "code",
   "execution_count": 30,
   "metadata": {},
   "outputs": [],
   "source": [
    "#movies.head()"
   ]
  },
  {
   "cell_type": "code",
   "execution_count": null,
   "metadata": {},
   "outputs": [],
   "source": []
  }
 ],
 "metadata": {
  "kernelspec": {
   "display_name": "Python [conda env:ae]",
   "language": "python",
   "name": "conda-env-ae-py"
  },
  "language_info": {
   "codemirror_mode": {
    "name": "ipython",
    "version": 3
   },
   "file_extension": ".py",
   "mimetype": "text/x-python",
   "name": "python",
   "nbconvert_exporter": "python",
   "pygments_lexer": "ipython3",
   "version": "3.7.7"
  }
 },
 "nbformat": 4,
 "nbformat_minor": 4
}
